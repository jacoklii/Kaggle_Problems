{
 "cells": [
  {
   "cell_type": "code",
   "execution_count": 1,
   "id": "f8bb2783",
   "metadata": {
    "_cell_guid": "b1076dfc-b9ad-4769-8c92-a6c4dae69d19",
    "_uuid": "8f2839f25d086af736a60e9eeb907d3b93b6e0e5",
    "execution": {
     "iopub.execute_input": "2025-10-12T01:28:21.088013Z",
     "iopub.status.busy": "2025-10-12T01:28:21.087528Z",
     "iopub.status.idle": "2025-10-12T01:28:23.401579Z",
     "shell.execute_reply": "2025-10-12T01:28:23.400143Z"
    },
    "papermill": {
     "duration": 2.321633,
     "end_time": "2025-10-12T01:28:23.403847",
     "exception": false,
     "start_time": "2025-10-12T01:28:21.082214",
     "status": "completed"
    },
    "tags": []
   },
   "outputs": [
    {
     "name": "stdout",
     "output_type": "stream",
     "text": [
      "/kaggle/input/nlp-getting-started/sample_submission.csv\n",
      "/kaggle/input/nlp-getting-started/train.csv\n",
      "/kaggle/input/nlp-getting-started/test.csv\n"
     ]
    }
   ],
   "source": [
    "import numpy as np\n",
    "import pandas as pd\n",
    "\n",
    "import os\n",
    "for dirname, _, filenames in os.walk('/kaggle/input'):\n",
    "    for filename in filenames:\n",
    "        print(os.path.join(dirname, filename))"
   ]
  },
  {
   "cell_type": "code",
   "execution_count": 2,
   "id": "7df9767d",
   "metadata": {
    "execution": {
     "iopub.execute_input": "2025-10-12T01:28:23.410819Z",
     "iopub.status.busy": "2025-10-12T01:28:23.410352Z",
     "iopub.status.idle": "2025-10-12T01:28:23.522683Z",
     "shell.execute_reply": "2025-10-12T01:28:23.521589Z"
    },
    "papermill": {
     "duration": 0.117476,
     "end_time": "2025-10-12T01:28:23.524400",
     "exception": false,
     "start_time": "2025-10-12T01:28:23.406924",
     "status": "completed"
    },
    "tags": []
   },
   "outputs": [
    {
     "data": {
      "text/html": [
       "<div>\n",
       "<style scoped>\n",
       "    .dataframe tbody tr th:only-of-type {\n",
       "        vertical-align: middle;\n",
       "    }\n",
       "\n",
       "    .dataframe tbody tr th {\n",
       "        vertical-align: top;\n",
       "    }\n",
       "\n",
       "    .dataframe thead th {\n",
       "        text-align: right;\n",
       "    }\n",
       "</style>\n",
       "<table border=\"1\" class=\"dataframe\">\n",
       "  <thead>\n",
       "    <tr style=\"text-align: right;\">\n",
       "      <th></th>\n",
       "      <th>id</th>\n",
       "      <th>keyword</th>\n",
       "      <th>location</th>\n",
       "      <th>text</th>\n",
       "      <th>target</th>\n",
       "    </tr>\n",
       "  </thead>\n",
       "  <tbody>\n",
       "    <tr>\n",
       "      <th>0</th>\n",
       "      <td>1</td>\n",
       "      <td>NaN</td>\n",
       "      <td>NaN</td>\n",
       "      <td>Our Deeds are the Reason of this #earthquake M...</td>\n",
       "      <td>1</td>\n",
       "    </tr>\n",
       "    <tr>\n",
       "      <th>1</th>\n",
       "      <td>4</td>\n",
       "      <td>NaN</td>\n",
       "      <td>NaN</td>\n",
       "      <td>Forest fire near La Ronge Sask. Canada</td>\n",
       "      <td>1</td>\n",
       "    </tr>\n",
       "    <tr>\n",
       "      <th>2</th>\n",
       "      <td>5</td>\n",
       "      <td>NaN</td>\n",
       "      <td>NaN</td>\n",
       "      <td>All residents asked to 'shelter in place' are ...</td>\n",
       "      <td>1</td>\n",
       "    </tr>\n",
       "    <tr>\n",
       "      <th>3</th>\n",
       "      <td>6</td>\n",
       "      <td>NaN</td>\n",
       "      <td>NaN</td>\n",
       "      <td>13,000 people receive #wildfires evacuation or...</td>\n",
       "      <td>1</td>\n",
       "    </tr>\n",
       "    <tr>\n",
       "      <th>4</th>\n",
       "      <td>7</td>\n",
       "      <td>NaN</td>\n",
       "      <td>NaN</td>\n",
       "      <td>Just got sent this photo from Ruby #Alaska as ...</td>\n",
       "      <td>1</td>\n",
       "    </tr>\n",
       "  </tbody>\n",
       "</table>\n",
       "</div>"
      ],
      "text/plain": [
       "   id keyword location                                               text  \\\n",
       "0   1     NaN      NaN  Our Deeds are the Reason of this #earthquake M...   \n",
       "1   4     NaN      NaN             Forest fire near La Ronge Sask. Canada   \n",
       "2   5     NaN      NaN  All residents asked to 'shelter in place' are ...   \n",
       "3   6     NaN      NaN  13,000 people receive #wildfires evacuation or...   \n",
       "4   7     NaN      NaN  Just got sent this photo from Ruby #Alaska as ...   \n",
       "\n",
       "   target  \n",
       "0       1  \n",
       "1       1  \n",
       "2       1  \n",
       "3       1  \n",
       "4       1  "
      ]
     },
     "execution_count": 2,
     "metadata": {},
     "output_type": "execute_result"
    }
   ],
   "source": [
    "train_df = pd.read_csv('/kaggle/input/nlp-getting-started/train.csv')\n",
    "test_df = pd.read_csv('/kaggle/input/nlp-getting-started/test.csv')\n",
    "\n",
    "train_df.head()"
   ]
  },
  {
   "cell_type": "code",
   "execution_count": 3,
   "id": "8d2fba1f",
   "metadata": {
    "execution": {
     "iopub.execute_input": "2025-10-12T01:28:23.532216Z",
     "iopub.status.busy": "2025-10-12T01:28:23.531351Z",
     "iopub.status.idle": "2025-10-12T01:28:23.544216Z",
     "shell.execute_reply": "2025-10-12T01:28:23.543022Z"
    },
    "papermill": {
     "duration": 0.019051,
     "end_time": "2025-10-12T01:28:23.546516",
     "exception": false,
     "start_time": "2025-10-12T01:28:23.527465",
     "status": "completed"
    },
    "tags": []
   },
   "outputs": [
    {
     "data": {
      "text/plain": [
       "location    2533\n",
       "keyword       61\n",
       "id             0\n",
       "text           0\n",
       "target         0\n",
       "dtype: int64"
      ]
     },
     "execution_count": 3,
     "metadata": {},
     "output_type": "execute_result"
    }
   ],
   "source": [
    "train_df.isna().sum().sort_values(ascending = False)"
   ]
  },
  {
   "cell_type": "code",
   "execution_count": 4,
   "id": "eaee5ef9",
   "metadata": {
    "execution": {
     "iopub.execute_input": "2025-10-12T01:28:23.553831Z",
     "iopub.status.busy": "2025-10-12T01:28:23.553484Z",
     "iopub.status.idle": "2025-10-12T01:28:23.563945Z",
     "shell.execute_reply": "2025-10-12T01:28:23.562805Z"
    },
    "papermill": {
     "duration": 0.016474,
     "end_time": "2025-10-12T01:28:23.566074",
     "exception": false,
     "start_time": "2025-10-12T01:28:23.549600",
     "status": "completed"
    },
    "tags": []
   },
   "outputs": [
    {
     "data": {
      "text/plain": [
       "location    1105\n",
       "keyword       26\n",
       "id             0\n",
       "text           0\n",
       "dtype: int64"
      ]
     },
     "execution_count": 4,
     "metadata": {},
     "output_type": "execute_result"
    }
   ],
   "source": [
    "test_df.isna().sum().sort_values(ascending = False)"
   ]
  },
  {
   "cell_type": "code",
   "execution_count": 5,
   "id": "800bd396",
   "metadata": {
    "execution": {
     "iopub.execute_input": "2025-10-12T01:28:23.574204Z",
     "iopub.status.busy": "2025-10-12T01:28:23.573471Z",
     "iopub.status.idle": "2025-10-12T01:28:25.602195Z",
     "shell.execute_reply": "2025-10-12T01:28:25.600767Z"
    },
    "papermill": {
     "duration": 2.035048,
     "end_time": "2025-10-12T01:28:25.604551",
     "exception": false,
     "start_time": "2025-10-12T01:28:23.569503",
     "status": "completed"
    },
    "tags": []
   },
   "outputs": [
    {
     "name": "stdout",
     "output_type": "stream",
     "text": [
      "target\n",
      "0    0.570279\n",
      "1    0.429721\n",
      "Name: proportion, dtype: float64\n",
      "target\n",
      "0    0.570584\n",
      "1    0.429416\n",
      "Name: proportion, dtype: float64\n"
     ]
    }
   ],
   "source": [
    "from sklearn.model_selection import StratifiedShuffleSplit\n",
    "from sklearn.feature_extraction.text import CountVectorizer\n",
    "from sklearn.linear_model import RidgeClassifier\n",
    "from sklearn.metrics import classification_report\n",
    "\n",
    "# Fill in missing vals\n",
    "for df in [train_df, test_df]:\n",
    "    df['location'] = df['location'].fillna('None')\n",
    "    df['keyword'] = df['keyword'].fillna('None')\n",
    "\n",
    "X = train_df['text']\n",
    "y = train_df['target']\n",
    "\n",
    "# Split data\n",
    "split = StratifiedShuffleSplit(n_splits=1, test_size=0.2, random_state=42)\n",
    "for train_i, val_i in split.split(X, y):\n",
    "    X_train, X_val = X.iloc[train_i], X.iloc[val_i]\n",
    "    y_train, y_val = y.iloc[train_i], y.iloc[val_i]\n",
    "\n",
    "print(y_train.value_counts(normalize=True))\n",
    "print(y_val.value_counts(normalize=True))"
   ]
  },
  {
   "cell_type": "code",
   "execution_count": 6,
   "id": "ebc321e1",
   "metadata": {
    "execution": {
     "iopub.execute_input": "2025-10-12T01:28:25.613871Z",
     "iopub.status.busy": "2025-10-12T01:28:25.612953Z",
     "iopub.status.idle": "2025-10-12T01:28:25.952172Z",
     "shell.execute_reply": "2025-10-12T01:28:25.950720Z"
    },
    "papermill": {
     "duration": 0.344902,
     "end_time": "2025-10-12T01:28:25.953909",
     "exception": false,
     "start_time": "2025-10-12T01:28:25.609007",
     "status": "completed"
    },
    "tags": []
   },
   "outputs": [
    {
     "name": "stdout",
     "output_type": "stream",
     "text": [
      "              precision    recall  f1-score   support\n",
      "\n",
      "           0       0.79      0.84      0.81       869\n",
      "           1       0.77      0.70      0.73       654\n",
      "\n",
      "    accuracy                           0.78      1523\n",
      "   macro avg       0.78      0.77      0.77      1523\n",
      "weighted avg       0.78      0.78      0.78      1523\n",
      "\n"
     ]
    }
   ],
   "source": [
    "# Count, Logistic Regression\n",
    "vectorizer = CountVectorizer(stop_words='english', max_features=10000)\n",
    "\n",
    "X_train_vec = vectorizer.fit_transform(X_train)\n",
    "X_val_vec = vectorizer.transform(X_val)\n",
    "\n",
    "model = RidgeClassifier(alpha=1.0, solver='lsqr')\n",
    "model.fit(X_train_vec, y_train)\n",
    "\n",
    "# Evaluate\n",
    "preds = model.predict(X_val_vec)\n",
    "print(classification_report(y_val, preds))"
   ]
  },
  {
   "cell_type": "code",
   "execution_count": 7,
   "id": "0613e579",
   "metadata": {
    "execution": {
     "iopub.execute_input": "2025-10-12T01:28:25.961356Z",
     "iopub.status.busy": "2025-10-12T01:28:25.961071Z",
     "iopub.status.idle": "2025-10-12T01:28:26.046939Z",
     "shell.execute_reply": "2025-10-12T01:28:26.045693Z"
    },
    "papermill": {
     "duration": 0.091764,
     "end_time": "2025-10-12T01:28:26.048801",
     "exception": false,
     "start_time": "2025-10-12T01:28:25.957037",
     "status": "completed"
    },
    "tags": []
   },
   "outputs": [],
   "source": [
    "X_test_vec = vectorizer.transform(test_df['text'])\n",
    "sample_submission = pd.read_csv(\"/kaggle/input/nlp-getting-started/sample_submission.csv\")\n",
    "# Predict\n",
    "sample_submission[\"target\"] = model.predict(X_test_vec)\n",
    "# submit\n",
    "sample_submission.to_csv(\"submission.csv\", index=False)"
   ]
  },
  {
   "cell_type": "code",
   "execution_count": null,
   "id": "164e8eb5",
   "metadata": {
    "papermill": {
     "duration": 0.002658,
     "end_time": "2025-10-12T01:28:26.054520",
     "exception": false,
     "start_time": "2025-10-12T01:28:26.051862",
     "status": "completed"
    },
    "tags": []
   },
   "outputs": [],
   "source": []
  }
 ],
 "metadata": {
  "kaggle": {
   "accelerator": "none",
   "dataSources": [
    {
     "databundleVersionId": 869809,
     "sourceId": 17777,
     "sourceType": "competition"
    }
   ],
   "dockerImageVersionId": 31153,
   "isGpuEnabled": false,
   "isInternetEnabled": false,
   "language": "python",
   "sourceType": "notebook"
  },
  "kernelspec": {
   "display_name": "Python 3",
   "language": "python",
   "name": "python3"
  },
  "language_info": {
   "codemirror_mode": {
    "name": "ipython",
    "version": 3
   },
   "file_extension": ".py",
   "mimetype": "text/x-python",
   "name": "python",
   "nbconvert_exporter": "python",
   "pygments_lexer": "ipython3",
   "version": "3.11.13"
  },
  "papermill": {
   "default_parameters": {},
   "duration": 11.669563,
   "end_time": "2025-10-12T01:28:26.779765",
   "environment_variables": {},
   "exception": null,
   "input_path": "__notebook__.ipynb",
   "output_path": "__notebook__.ipynb",
   "parameters": {},
   "start_time": "2025-10-12T01:28:15.110202",
   "version": "2.6.0"
  }
 },
 "nbformat": 4,
 "nbformat_minor": 5
}
